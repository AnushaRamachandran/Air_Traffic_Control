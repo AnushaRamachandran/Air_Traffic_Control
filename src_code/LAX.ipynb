{
 "cells": [
  {
   "cell_type": "code",
   "execution_count": 12,
   "metadata": {},
   "outputs": [],
   "source": [
    "import pandas as pd\n",
    "import numpy as np\n",
    "import os\n",
    "import random\n",
    "import scipy as sp\n",
    "from sklearn.metrics import confusion_matrix \n",
    "%matplotlib inline\n",
    "import matplotlib\n",
    "import matplotlib.pyplot as plt\n",
    "import seaborn as sns"
   ]
  },
  {
   "cell_type": "markdown",
   "metadata": {},
   "source": [
    "## Import Files"
   ]
  },
  {
   "cell_type": "code",
   "execution_count": 13,
   "metadata": {},
   "outputs": [],
   "source": [
    "n = 5819078 \n",
    "skip = random.sample(range(1,n),n-20000) \n",
    "flights = pd.read_csv(\"G:/Mini-Minor project bvcoe/flights.csv\",skiprows=skip,usecols = ['MONTH','DAY','DAY_OF_WEEK','AIRLINE','ORIGIN_AIRPORT','DESTINATION_AIRPORT','SCHEDULED_DEPARTURE',\n",
    "                                                             'DEPARTURE_DELAY','ARRIVAL_DELAY','CANCELLED'],low_memory=False) \n",
    "airports = pd.read_csv(\"G:/Mini-Minor project bvcoe/airports.csv\")\n",
    "airlines = pd.read_csv(\"G:/Mini-Minor project bvcoe/airlines.csv\") \n",
    "flights = flights.sample(frac=1).reset_index(drop=True) \n",
    "all_features = flights.columns.values  "
   ]
  },
  {
   "cell_type": "markdown",
   "metadata": {},
   "source": [
    "## Fixing Airport Data"
   ]
  },
  {
   "cell_type": "code",
   "execution_count": 14,
   "metadata": {},
   "outputs": [],
   "source": [
    "import io\n",
    "import requests\n",
    "\n",
    "url1 = \"https://www.transtats.bts.gov/Download_Lookup.asp?Lookup=L_AIRPORT\"\n",
    "s1 = requests.get(url1).content\n",
    "url2 = \"https://www.transtats.bts.gov/Download_Lookup.asp?Lookup=L_AIRPORT_ID\"\n",
    "s2 = requests.get(url2).content\n",
    "\n",
    "aircode1 = pd.read_csv(io.StringIO(s1.decode('utf-8')))\n",
    "aircode2 = pd.read_csv(io.StringIO(s2.decode('utf-8')))\n",
    "\n",
    "#aircode1 = pd.DataFrame.from_csv('L_AIRPORT.csv')\n",
    "#aircode2 = pd.DataFrame.from_csv('L_AIRPORT_ID.csv')\n",
    "\n",
    "\n",
    "# Format the airport codes\n",
    "aircode1 = aircode1.reset_index()\n",
    "aircode2 = aircode2.reset_index()\n",
    "aircodes = pd.merge(aircode1,aircode2,on='Description')\n",
    "aircode_dict = dict(zip(aircodes['Code_y'].astype(str),aircodes['Code_x']))\n",
    "\n",
    "# Make sure all Origin and departing airports are strings\n",
    "flights['ORIGIN_AIRPORT'] = flights['ORIGIN_AIRPORT'].values.astype(str)\n",
    "flights['DESTINATION_AIRPORT'] = flights['DESTINATION_AIRPORT'].values.astype(str)\n",
    "for i in range(len(flights)):\n",
    "    if len(flights['ORIGIN_AIRPORT'][i]) != 3:\n",
    "        to_replace = flights['ORIGIN_AIRPORT'][i]\n",
    "        value = aircode_dict[flights['ORIGIN_AIRPORT'][i]]\n",
    "        flights = flights.replace(to_replace, value)\n",
    "for i in range(len(flights)):\n",
    "    if len(flights['DESTINATION_AIRPORT'][i]) != 3:\n",
    "        to_replace = flights['DESTINATION_AIRPORT'][i]\n",
    "        value = aircode_dict[flights['DESTINATION_AIRPORT'][i]]\n",
    "        flights = flights.replace(to_replace, value)"
   ]
  },
  {
   "cell_type": "markdown",
   "metadata": {},
   "source": [
    "## Enter the name of the Airport"
   ]
  },
  {
   "cell_type": "code",
   "execution_count": 15,
   "metadata": {},
   "outputs": [
    {
     "name": "stdout",
     "output_type": "stream",
     "text": [
      "Specify the departure airport (three letters) or put ALL:  LAX\n"
     ]
    }
   ],
   "source": [
    "Depart_airport = str(input(\"Specify the departure airport (three letters) or put ALL:  \")).upper()\n",
    "if Depart_airport in list(flights['ORIGIN_AIRPORT']):\n",
    "    flights = flights[flights['ORIGIN_AIRPORT']== Depart_airport]\n",
    "elif Depart_airport == 'ALL':\n",
    "    print('Analyzing all airports')\n",
    "else:        \n",
    "    print(\"incorrect airport code\")\n",
    "#flights = flights[flights['ORIGIN_AIRPORT']=='LAS']"
   ]
  },
  {
   "cell_type": "markdown",
   "metadata": {},
   "source": [
    "## Describing whether the flight was late or cancelled"
   ]
  },
  {
   "cell_type": "code",
   "execution_count": 16,
   "metadata": {},
   "outputs": [],
   "source": [
    "def late_or_cancelled(x):\n",
    "#    if x['ARRIVAL_DELAY'] > 60:\n",
    "    if x['CANCELLED'] == 1 or x['ARRIVAL_DELAY'] > 60:\n",
    "        return 1\n",
    "    else:\n",
    "        return 0\n",
    "\n",
    "flights['late or cancelled'] = flights.apply(late_or_cancelled,axis = 1)\n",
    "flights = flights[flights['CANCELLED']==0]\n",
    "#predictions = flights.apply(late_or_cancelled,axis = 1)"
   ]
  },
  {
   "cell_type": "code",
   "execution_count": 17,
   "metadata": {},
   "outputs": [],
   "source": [
    "days_in_month = np.array([31,28,31,30,31,30,31,31,30,31,30,31])\n",
    "def day_31_to_365(x):\n",
    "    days_365 = days_in_month[:x['MONTH']-1].sum() + x['DAY']\n",
    "    return days_365"
   ]
  },
  {
   "cell_type": "markdown",
   "metadata": {},
   "source": [
    "## calculating number of weeks instead of month"
   ]
  },
  {
   "cell_type": "code",
   "execution_count": 18,
   "metadata": {},
   "outputs": [],
   "source": [
    "flights['DAY'] = flights.apply(day_31_to_365,axis = 1)\n",
    "flights['WEEK'] = flights['DAY']//7\n",
    "del flights['DAY']"
   ]
  },
  {
   "cell_type": "code",
   "execution_count": 19,
   "metadata": {},
   "outputs": [],
   "source": [
    "flights['SCHEDULED_DEPARTURE'] = np.ceil(flights['SCHEDULED_DEPARTURE']/600).apply(int)"
   ]
  },
  {
   "cell_type": "markdown",
   "metadata": {},
   "source": [
    "## delete unnecessary data"
   ]
  },
  {
   "cell_type": "code",
   "execution_count": 20,
   "metadata": {},
   "outputs": [],
   "source": [
    "del flights['ARRIVAL_DELAY']\n",
    "del flights['DEPARTURE_DELAY']\n",
    "del flights['CANCELLED']"
   ]
  },
  {
   "cell_type": "markdown",
   "metadata": {},
   "source": [
    "## Plot being late or not vs other features"
   ]
  },
  {
   "cell_type": "code",
   "execution_count": 21,
   "metadata": {},
   "outputs": [],
   "source": [
    "Delay_vs_Day_of_Week = pd.DataFrame({'delays' : flights.groupby(['DAY_OF_WEEK'])['late or cancelled'].mean()}).reset_index()\n",
    "Delay_vs_WEEK = pd.DataFrame({'delays' : flights.groupby(['WEEK'])['late or cancelled'].mean()}).reset_index()\n",
    "Delay_vs_AIRLINE = pd.DataFrame({'delays' : flights.groupby(['AIRLINE'])['late or cancelled'].mean()})#.reset_index()\n",
    "Delay_vs_SCHEDULED_DEPARTURE = pd.DataFrame({'delays' : flights.groupby(['SCHEDULED_DEPARTURE'])['late or cancelled'].mean()}).reset_index()\n",
    "\n",
    "#Delay_vs_Day_of_Week.plot(x='DAY_OF_WEEK', y='delays')\n",
    "#Delay_vs_Day_of_Week['delays'].hist(hold=None)"
   ]
  },
  {
   "cell_type": "code",
   "execution_count": 22,
   "metadata": {},
   "outputs": [
    {
     "data": {
      "text/plain": [
       "[Text(0, 0, '00:00 - 06:00'),\n",
       " Text(0, 0, '06:00 - 12:00'),\n",
       " Text(0, 0, '12:00 - 18:00'),\n",
       " Text(0, 0, '18:00 - 00:00')]"
      ]
     },
     "execution_count": 22,
     "metadata": {},
     "output_type": "execute_result"
    },
    {
     "data": {
      "image/png": "[encoded data removed]",
      "text/plain": [
       "<Figure size 1332x900 with 4 Axes>"
      ]
     },
     "metadata": {
      "needs_background": "light"
     },
     "output_type": "display_data"
    }
   ],
   "source": [
    "fig = plt.figure(figsize=(18.5, 12.5))\n",
    "\n",
    "sub1 = fig.add_subplot(221) # instead of plt.subplot(2, 2, 1)\n",
    "sub1.set_title('Week of Year', fontsize=18, color=\"blue\")\n",
    "sns.barplot(x=\"WEEK\", y=\"delays\", data=Delay_vs_WEEK, palette=\"Blues_d\", ax = sub1)\n",
    "sub1.set_xticks(list(range(0,52,10)))\n",
    "sub1.set_xticklabels(list(range(0,52,10)))\n",
    "\n",
    "sub2 = fig.add_subplot(222)\n",
    "sub2.set_title('Day of Week', fontsize=18, color=\"blue\")\n",
    "sns.barplot(x=\"DAY_OF_WEEK\", y=\"delays\", data=Delay_vs_Day_of_Week, palette=\"Blues_d\", ax = sub2)\n",
    "sub2.set_xticklabels(['Mon','Tue','Wed','Thu','Fri','Sat','Sun'])\n",
    "\n",
    "sub3 = fig.add_subplot(223)\n",
    "sub3.set_title('Airline', fontsize=18, color=\"blue\")\n",
    "sns.barplot(y = list(range(len(Delay_vs_AIRLINE))), x=Delay_vs_AIRLINE['delays'], palette=\"Blues_d\", ax = sub3, orient=\"h\")\n",
    "sub3.set_yticks(range(len(Delay_vs_AIRLINE)))\n",
    "sub3.set_yticklabels(Delay_vs_AIRLINE.index)\n",
    "\n",
    "sub4 = fig.add_subplot(224)\n",
    "sns.barplot(x = list(range(len(Delay_vs_SCHEDULED_DEPARTURE))), y=Delay_vs_SCHEDULED_DEPARTURE['delays'], palette=\"Blues_d\", ax = sub4)\n",
    "sub4.set_title('Scheduled Departure Time', fontsize=18, color=\"blue\")\n",
    "sub4.set_xticks([0, 1, 2, 3])\n",
    "sub4.set_xticklabels(['00:00 - 06:00','06:00 - 12:00','12:00 - 18:00','18:00 - 00:00'])"
   ]
  },
  {
   "cell_type": "markdown",
   "metadata": {},
   "source": [
    "## Correcting for a bias in being late vs not being late"
   ]
  },
  {
   "cell_type": "code",
   "execution_count": 12,
   "metadata": {},
   "outputs": [],
   "source": [
    "num_late = sum(flights['late or cancelled'])\n",
    "\n",
    "flights_on_time = flights[flights['late or cancelled']==0]\n",
    "\n",
    "flights_orig = flights.copy()\n",
    "\n",
    "flights_on_time = flights_on_time.sample(frac=num_late/flights.shape[0]).reset_index(drop=True)\n",
    "flights_on_time.shape\n",
    "flights = pd.concat([flights[flights['late or cancelled']==1],flights_on_time])\n",
    "flights = flights.sample(frac=1).reset_index(drop=True)\n"
   ]
  },
  {
   "cell_type": "markdown",
   "metadata": {},
   "source": [
    "## Converting categorical values to sparce matrixes"
   ]
  },
  {
   "cell_type": "code",
   "execution_count": 13,
   "metadata": {},
   "outputs": [
    {
     "name": "stdout",
     "output_type": "stream",
     "text": [
      "(2144, 388)\n",
      "(19668, 388)\n"
     ]
    }
   ],
   "source": [
    "from sklearn.preprocessing import LabelBinarizer\n",
    "\n",
    "WEEK_LabBin = LabelBinarizer()\n",
    "WEEK_LabBin.fit(flights_orig['WEEK'])\n",
    "WEEK_binarized = np.array(WEEK_LabBin.transform(flights['WEEK']))\n",
    "WEEK_binarized_orig = np.array(WEEK_LabBin.transform(flights_orig['WEEK']))\n",
    "\n",
    "\n",
    "DAY_OF_WEEK_LabBin = LabelBinarizer()\n",
    "DAY_OF_WEEK_LabBin.fit(flights_orig['DAY_OF_WEEK'])\n",
    "DAY_OF_WEEK_binarized = np.array(DAY_OF_WEEK_LabBin.transform(flights['DAY_OF_WEEK']))\n",
    "DAY_OF_WEEK_binarized_orig = np.array(DAY_OF_WEEK_LabBin.transform(flights_orig['DAY_OF_WEEK']))\n",
    "\n",
    "\n",
    "AIRLINE_LabBin = LabelBinarizer()\n",
    "AIRLINE_LabBin.fit(flights_orig['AIRLINE'])\n",
    "AIRLINE_binarized = np.array(AIRLINE_LabBin.transform(flights['AIRLINE']))\n",
    "AIRLINE_binarized_orig = np.array(AIRLINE_LabBin.transform(flights_orig['AIRLINE']))\n",
    "\n",
    "\n",
    "ORIGIN_AIRPORT_LabBin = LabelBinarizer()\n",
    "ORIGIN_AIRPORT_LabBin.fit(flights_orig['ORIGIN_AIRPORT'])\n",
    "ORIGIN_AIRPORT_binarized = np.array(DAY_OF_WEEK_LabBin.transform(flights['ORIGIN_AIRPORT']))\n",
    "ORIGIN_AIRPORT_binarized_orig = np.array(DAY_OF_WEEK_LabBin.transform(flights_orig['ORIGIN_AIRPORT']))\n",
    "\n",
    "\n",
    "DESTINATION_AIRPORT_LabBin = LabelBinarizer()\n",
    "DESTINATION_AIRPORT_LabBin.fit(flights_orig['DESTINATION_AIRPORT'])\n",
    "DESTINATION_AIRPORT_binarized = np.array(DESTINATION_AIRPORT_LabBin.transform(flights['DESTINATION_AIRPORT']))\n",
    "DESTINATION_AIRPORT_binarized_orig = np.array(DESTINATION_AIRPORT_LabBin.transform(flights_orig['DESTINATION_AIRPORT']))\n",
    "\n",
    "\n",
    "SCHEDULED_DEPARTURE_LabBin = LabelBinarizer()\n",
    "SCHEDULED_DEPARTURE_LabBin.fit(flights_orig['SCHEDULED_DEPARTURE'])\n",
    "SCHEDULED_DEPARTURE_binarized = np.array(SCHEDULED_DEPARTURE_LabBin.transform(flights['SCHEDULED_DEPARTURE']))\n",
    "SCHEDULED_DEPARTURE_binarized_orig = np.array(SCHEDULED_DEPARTURE_LabBin.transform(flights_orig['SCHEDULED_DEPARTURE']))\n",
    "\n",
    "\n",
    "# flights_binarized will contain all data in sparce matrix form\n",
    "flights_binarized = np.concatenate((WEEK_binarized,DAY_OF_WEEK_binarized,AIRLINE_binarized,ORIGIN_AIRPORT_binarized,\n",
    "                                    DESTINATION_AIRPORT_binarized,SCHEDULED_DEPARTURE_binarized),axis=1)\n",
    "flights_binarized_orig = np.concatenate((WEEK_binarized_orig,DAY_OF_WEEK_binarized_orig,AIRLINE_binarized_orig,ORIGIN_AIRPORT_binarized_orig,\n",
    "                                    DESTINATION_AIRPORT_binarized_orig,SCHEDULED_DEPARTURE_binarized_orig),axis=1)\n",
    "\n",
    "print(flights_binarized.shape)\n",
    "print(flights_binarized_orig.shape)"
   ]
  },
  {
   "cell_type": "markdown",
   "metadata": {},
   "source": [
    "## Split data into training and test data"
   ]
  },
  {
   "cell_type": "code",
   "execution_count": 14,
   "metadata": {},
   "outputs": [],
   "source": [
    "# splitting data into test and training sets\n",
    "from sklearn.model_selection import train_test_split\n",
    "\n",
    "train_set, test_set, train_set_target, test_set_target = train_test_split(flights_binarized, flights['late or cancelled'], test_size = 0.4, random_state=42)"
   ]
  },
  {
   "cell_type": "markdown",
   "metadata": {},
   "source": [
    "## Random Forest "
   ]
  },
  {
   "cell_type": "code",
   "execution_count": 15,
   "metadata": {},
   "outputs": [
    {
     "name": "stderr",
     "output_type": "stream",
     "text": [
      "C:\\Users\\Anusha\\Anaconda3\\lib\\site-packages\\sklearn\\ensemble\\forest.py:246: FutureWarning: The default value of n_estimators will change from 10 in version 0.20 to 100 in 0.22.\n",
      "  \"10 in version 0.20 to 100 in 0.22.\", FutureWarning)\n"
     ]
    },
    {
     "data": {
      "text/plain": [
       "RandomForestRegressor(bootstrap=True, criterion='mse', max_depth=None,\n",
       "           max_features='auto', max_leaf_nodes=None,\n",
       "           min_impurity_decrease=0.0, min_impurity_split=None,\n",
       "           min_samples_leaf=1, min_samples_split=2,\n",
       "           min_weight_fraction_leaf=0.0, n_estimators=10, n_jobs=-1,\n",
       "           oob_score=False, random_state=None, verbose=0, warm_start=False)"
      ]
     },
     "execution_count": 15,
     "metadata": {},
     "output_type": "execute_result"
    }
   ],
   "source": [
    "from sklearn.ensemble import RandomForestRegressor\n",
    "forest_reg = RandomForestRegressor(n_jobs=-1)\n",
    "forest_reg.fit(train_set,train_set_target)"
   ]
  },
  {
   "cell_type": "code",
   "execution_count": 16,
   "metadata": {},
   "outputs": [
    {
     "data": {
      "text/plain": [
       "array([[612,   8],\n",
       "       [ 25, 641]], dtype=int64)"
      ]
     },
     "execution_count": 16,
     "metadata": {},
     "output_type": "execute_result"
    }
   ],
   "source": [
    "confusion_matrix(train_set_target,(forest_reg.predict(train_set)).round())"
   ]
  },
  {
   "cell_type": "code",
   "execution_count": 17,
   "metadata": {},
   "outputs": [
    {
     "data": {
      "text/plain": [
       "array([[261, 160],\n",
       "       [199, 238]], dtype=int64)"
      ]
     },
     "execution_count": 17,
     "metadata": {},
     "output_type": "execute_result"
    }
   ],
   "source": [
    "confusion_matrix(test_set_target,(forest_reg.predict(test_set)).round())"
   ]
  },
  {
   "cell_type": "markdown",
   "metadata": {},
   "source": [
    "## Grid Search for Random Forest"
   ]
  },
  {
   "cell_type": "code",
   "execution_count": 18,
   "metadata": {},
   "outputs": [
    {
     "data": {
      "text/plain": [
       "GridSearchCV(cv=5, error_score='raise-deprecating',\n",
       "       estimator=RandomForestRegressor(bootstrap=True, criterion='mse', max_depth=None,\n",
       "           max_features='auto', max_leaf_nodes=None,\n",
       "           min_impurity_decrease=0.0, min_impurity_split=None,\n",
       "           min_samples_leaf=1, min_samples_split=2,\n",
       "           min_weight_fraction_leaf=0.0, n_estimators='warn', n_jobs=-1,\n",
       "           oob_score=False, random_state=None, verbose=0, warm_start=False),\n",
       "       fit_params=None, iid='warn', n_jobs=None,\n",
       "       param_grid=[{'n_estimators': [75, 100], 'max_features': [10, 20], 'max_depth': [20, 30]}],\n",
       "       pre_dispatch='2*n_jobs', refit=True, return_train_score='warn',\n",
       "       scoring='neg_mean_squared_error', verbose=0)"
      ]
     },
     "execution_count": 18,
     "metadata": {},
     "output_type": "execute_result"
    }
   ],
   "source": [
    "from sklearn.model_selection import GridSearchCV\n",
    "\n",
    "param_grid = [{'n_estimators': [75, 100],'max_features':[10, 20],'max_depth':[20, 30]}]\n",
    "forest_reg = RandomForestRegressor(n_jobs=-1)\n",
    "grid_search = GridSearchCV(forest_reg, param_grid, cv=5, scoring='neg_mean_squared_error')\n",
    "grid_search.fit(train_set,train_set_target)"
   ]
  },
  {
   "cell_type": "markdown",
   "metadata": {},
   "source": [
    "## Using PICKLE to save the results"
   ]
  },
  {
   "cell_type": "code",
   "execution_count": 19,
   "metadata": {},
   "outputs": [],
   "source": [
    "import pickle\n",
    "\n",
    "filename = 'finalized_model.sav'\n",
    "pickle.dump(grid_search, open(filename, 'wb'))\n",
    "\n",
    "#loaded_model = pickle.load(open(filename, 'rb'))\n",
    "#result = loaded_model.score(X_test, Y_test)"
   ]
  },
  {
   "cell_type": "markdown",
   "metadata": {},
   "source": [
    "## Confusion Matrix for Training Data"
   ]
  },
  {
   "cell_type": "code",
   "execution_count": 20,
   "metadata": {},
   "outputs": [
    {
     "data": {
      "text/plain": [
       "array([[604,  16],\n",
       "       [  7, 659]], dtype=int64)"
      ]
     },
     "execution_count": 20,
     "metadata": {},
     "output_type": "execute_result"
    }
   ],
   "source": [
    "# confusion matrix for training set\n",
    "confusion_matrix(train_set_target,(grid_search.predict(train_set)).round())"
   ]
  },
  {
   "cell_type": "code",
   "execution_count": 21,
   "metadata": {},
   "outputs": [
    {
     "data": {
      "text/plain": [
       "RandomForestRegressor(bootstrap=True, criterion='mse', max_depth=30,\n",
       "           max_features=20, max_leaf_nodes=None, min_impurity_decrease=0.0,\n",
       "           min_impurity_split=None, min_samples_leaf=1,\n",
       "           min_samples_split=2, min_weight_fraction_leaf=0.0,\n",
       "           n_estimators=100, n_jobs=-1, oob_score=False, random_state=None,\n",
       "           verbose=0, warm_start=False)"
      ]
     },
     "execution_count": 21,
     "metadata": {},
     "output_type": "execute_result"
    }
   ],
   "source": [
    "grid_search.best_estimator_"
   ]
  },
  {
   "cell_type": "markdown",
   "metadata": {},
   "source": [
    "## Confusion Matrix for Test Data"
   ]
  },
  {
   "cell_type": "code",
   "execution_count": 22,
   "metadata": {},
   "outputs": [
    {
     "data": {
      "text/plain": [
       "array([[220, 201],\n",
       "       [142, 295]], dtype=int64)"
      ]
     },
     "execution_count": 22,
     "metadata": {},
     "output_type": "execute_result"
    }
   ],
   "source": [
    "# confusion matrix for test set\n",
    "confusion_matrix(test_set_target,(grid_search.predict(test_set)).round())\n"
   ]
  },
  {
   "cell_type": "markdown",
   "metadata": {},
   "source": [
    "## column \"Comparison\" to show which results is true/false pos/neg"
   ]
  },
  {
   "cell_type": "markdown",
   "metadata": {},
   "source": [
    "### True pos = 1, True neg = 2, False pos = 3, false neg = 4"
   ]
  },
  {
   "cell_type": "code",
   "execution_count": 23,
   "metadata": {},
   "outputs": [],
   "source": [
    "def comparison_col(x):\n",
    "    # True pos = 1, True neg = 2, False pos = 3, false neg = 4\n",
    "    if (x['True'] == 1) & (x['predict'] > 0.5):\n",
    "        return 1\n",
    "    elif (x['True'] == 0) & (x['predict'] < 0.5):\n",
    "        return 2\n",
    "    elif (x['True'] == 0) & (x['predict'] > 0.5):\n",
    "        return 3\n",
    "    elif (x['True'] == 1) & (x['predict'] < 0.5):\n",
    "        return 4"
   ]
  },
  {
   "cell_type": "code",
   "execution_count": 24,
   "metadata": {},
   "outputs": [],
   "source": [
    "predictions = grid_search.predict(train_set)\n",
    "grid_reg_results = pd.DataFrame({'True':train_set_target, 'predict':predictions})\n",
    "\n",
    "grid_reg_results['Comparison'] = grid_reg_results.apply(comparison_col, axis = 1)"
   ]
  },
  {
   "cell_type": "code",
   "execution_count": 25,
   "metadata": {},
   "outputs": [
    {
     "data": {
      "text/plain": [
       "(0, 1)"
      ]
     },
     "execution_count": 25,
     "metadata": {},
     "output_type": "execute_result"
    },
    {
     "data": {
      "image/png": "[encoded data removed]",
      "text/plain": [
       "<Figure size 1332x756 with 2 Axes>"
      ]
     },
     "metadata": {
      "needs_background": "light"
     },
     "output_type": "display_data"
    }
   ],
   "source": [
    "fig = plt.figure(figsize=(18.5, 10.5))\n",
    "sub1 = fig.add_subplot(211) # instead of plt.subplot(2, 2, 1)\n",
    "sub1.set_title('ALL True predictions (including incorrect ones)', fontsize=18, color=\"blue\")\n",
    "sub1.hist(grid_reg_results[grid_reg_results['True']==1]['predict'],alpha=0.7, bins=31)\n",
    "sub1.set_xlim([0, 1])\n",
    "\n",
    "sub2 = fig.add_subplot(212)\n",
    "sub2.set_title('ALL False predictions (including incorrect ones)', fontsize=18, color=\"blue\")\n",
    "sub2.hist(grid_reg_results[grid_reg_results['True']==0]['predict'],alpha=0.7, bins=31)\n",
    "sub2.set_xlim([0, 1])"
   ]
  },
  {
   "cell_type": "markdown",
   "metadata": {},
   "source": [
    "## Plotting Histograms of results"
   ]
  },
  {
   "cell_type": "code",
   "execution_count": 26,
   "metadata": {},
   "outputs": [
    {
     "data": {
      "text/plain": [
       "Text(0.5, 1.0, 'Training Data')"
      ]
     },
     "execution_count": 26,
     "metadata": {},
     "output_type": "execute_result"
    },
    {
     "data": {
      "image/png": "[encoded data removed]",
      "text/plain": [
       "<Figure size 432x288 with 1 Axes>"
      ]
     },
     "metadata": {
      "needs_background": "light"
     },
     "output_type": "display_data"
    }
   ],
   "source": [
    "plt.hist(grid_reg_results[grid_reg_results['Comparison'].isin([1,2])]['predict'],alpha=0.7, bins=30,label='Correct',color='c')\n",
    "plt.hist(grid_reg_results[grid_reg_results['Comparison'].isin([3,4])]['predict'],alpha=0.7, bins=30,label='Incorrect',color='m')\n",
    "plt.legend(loc='upper left')\n",
    "plt.title('Training Data')\n"
   ]
  },
  {
   "cell_type": "code",
   "execution_count": 27,
   "metadata": {},
   "outputs": [],
   "source": [
    "test_predictions = grid_search.predict(test_set)\n",
    "test_grid_reg_results = pd.DataFrame({'True':test_set_target, 'predict':test_predictions})\n",
    "test_grid_reg_results['Comparison'] = test_grid_reg_results.apply(comparison_col, axis = 1)"
   ]
  },
  {
   "cell_type": "code",
   "execution_count": 28,
   "metadata": {},
   "outputs": [
    {
     "data": {
      "text/plain": [
       "Text(0.5, 1.0, 'Test Data')"
      ]
     },
     "execution_count": 28,
     "metadata": {},
     "output_type": "execute_result"
    },
    {
     "data": {
      "image/png": "[encoded data removed]",
      "text/plain": [
       "<Figure size 432x288 with 1 Axes>"
      ]
     },
     "metadata": {
      "needs_background": "light"
     },
     "output_type": "display_data"
    }
   ],
   "source": [
    "plt.hist(test_grid_reg_results[test_grid_reg_results['Comparison'].isin([1,2])]['predict'],alpha=0.7, bins=30,label='Correct',color='c')\n",
    "plt.hist(test_grid_reg_results[test_grid_reg_results['Comparison'].isin([3,4])]['predict'],alpha=0.7, bins=30,label='Incorrect',color='m')\n",
    "plt.legend(loc='upper left')\n",
    "plt.title('Test Data')"
   ]
  },
  {
   "cell_type": "code",
   "execution_count": 29,
   "metadata": {},
   "outputs": [
    {
     "data": {
      "text/plain": [
       "Text(0.5, 1.0, 'ROC Curve for Test Data')"
      ]
     },
     "execution_count": 29,
     "metadata": {},
     "output_type": "execute_result"
    },
    {
     "data": {
      "image/png": "[encoded data removed]",
      "text/plain": [
       "<Figure size 432x288 with 1 Axes>"
      ]
     },
     "metadata": {
      "needs_background": "light"
     },
     "output_type": "display_data"
    }
   ],
   "source": [
    "from sklearn.metrics import roc_curve, auc\n",
    "\n",
    "fpr_rf, tpr_rf, _ = roc_curve(test_set_target, test_predictions)\n",
    "\n",
    "plt.figure(1)\n",
    "plt.plot([0, 1], [0, 1], 'k--')\n",
    "plt.plot(fpr_rf, tpr_rf, label='RF')\n",
    "plt.title('ROC Curve for Test Data')"
   ]
  },
  {
   "cell_type": "markdown",
   "metadata": {},
   "source": [
    "## Modifying original data before balancing late vs not late"
   ]
  },
  {
   "cell_type": "code",
   "execution_count": 30,
   "metadata": {},
   "outputs": [],
   "source": [
    "orig_predictions = grid_search.predict(flights_binarized_orig)\n",
    "orig_target = flights_orig['late or cancelled']\n",
    "orig_grid_reg_results = pd.DataFrame({'True':orig_target, 'predict':orig_predictions})\n",
    "orig_grid_reg_results['Comparison'] = orig_grid_reg_results.apply(comparison_col, axis = 1)"
   ]
  },
  {
   "cell_type": "code",
   "execution_count": 31,
   "metadata": {},
   "outputs": [
    {
     "data": {
      "text/plain": [
       "(0, 200)"
      ]
     },
     "execution_count": 31,
     "metadata": {},
     "output_type": "execute_result"
    },
    {
     "data": {
      "image/png": "[encoded data removed]",
      "text/plain": [
       "<Figure size 1332x756 with 2 Axes>"
      ]
     },
     "metadata": {
      "needs_background": "light"
     },
     "output_type": "display_data"
    }
   ],
   "source": [
    "fig = plt.figure(figsize=(18.5, 10.5))\n",
    "sub1 = fig.add_subplot(211) # instead of plt.subplot(2, 2, 1)\n",
    "sub1.set_title('Full Data - Positive predictions only', fontsize=18, color=\"blue\")\n",
    "sub1.hist(orig_grid_reg_results[orig_grid_reg_results['Comparison'].isin([1])]['predict'],alpha=0.7, bins=30,label='True Positive',color='c')\n",
    "sub1.hist(orig_grid_reg_results[orig_grid_reg_results['Comparison'].isin([3])]['predict'],alpha=0.7, bins=30,label='False Positive',color='m')\n",
    "#sub1.set_xlim([0, 1])\n",
    "\n",
    "sub2 = fig.add_subplot(212)\n",
    "sub2.set_title('Zoomed-in', fontsize=18, color=\"blue\")\n",
    "sub2.hist(orig_grid_reg_results[orig_grid_reg_results['Comparison'].isin([1])]['predict'],alpha=0.7, bins=30,label='True Positive',color='c')\n",
    "sub2.hist(orig_grid_reg_results[orig_grid_reg_results['Comparison'].isin([3])]['predict'],alpha=0.7, bins=30,label='False Positive',color='m')\n",
    "sub2.set_ylim([0, 200])\n",
    "#sub1.set_xlim([0, 1])"
   ]
  },
  {
   "cell_type": "code",
   "execution_count": 32,
   "metadata": {},
   "outputs": [
    {
     "data": {
      "text/plain": [
       "array([[9975, 8590],\n",
       "       [ 149,  954]], dtype=int64)"
      ]
     },
     "execution_count": 32,
     "metadata": {},
     "output_type": "execute_result"
    }
   ],
   "source": [
    "confusion_matrix(orig_target,(orig_predictions).round())"
   ]
  },
  {
   "cell_type": "code",
   "execution_count": 33,
   "metadata": {},
   "outputs": [
    {
     "data": {
      "text/plain": [
       "Text(0.5, 1.0, 'ROC Curve for Full Data')"
      ]
     },
     "execution_count": 33,
     "metadata": {},
     "output_type": "execute_result"
    },
    {
     "data": {
      "image/png": "[encoded data removed]",
      "text/plain": [
       "<Figure size 432x288 with 1 Axes>"
      ]
     },
     "metadata": {
      "needs_background": "light"
     },
     "output_type": "display_data"
    }
   ],
   "source": [
    "from sklearn.metrics import roc_curve, auc\n",
    "\n",
    "fpr_rf, tpr_rf, _ = roc_curve(orig_target, orig_predictions)\n",
    "\n",
    "plt.figure(1)\n",
    "plt.plot([0, 1], [0, 1], 'k--')\n",
    "plt.plot(fpr_rf, tpr_rf, label='RF')\n",
    "plt.title('ROC Curve for Full Data')"
   ]
  },
  {
   "cell_type": "markdown",
   "metadata": {},
   "source": [
    "## Thank You!"
   ]
  },
  {
   "cell_type": "code",
   "execution_count": null,
   "metadata": {},
   "outputs": [],
   "source": []
  }
 ],
 "metadata": {
  "kernelspec": {
   "display_name": "Python 3",
   "language": "python",
   "name": "python3"
  },
  "language_info": {
   "codemirror_mode": {
    "name": "ipython",
    "version": 3
   },
   "file_extension": ".py",
   "mimetype": "text/x-python",
   "name": "python",
   "nbconvert_exporter": "python",
   "pygments_lexer": "ipython3",
   "version": "3.7.1"
  }
 },
 "nbformat": 4,
 "nbformat_minor": 2
}
